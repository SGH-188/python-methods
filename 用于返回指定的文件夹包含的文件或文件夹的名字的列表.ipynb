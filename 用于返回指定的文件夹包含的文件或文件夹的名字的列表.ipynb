{
 "cells": [
  {
   "cell_type": "code",
   "execution_count": 6,
   "metadata": {},
   "outputs": [
    {
     "name": "stdout",
     "output_type": "stream",
     "text": [
      "1.csv\n",
      "1.csv\n",
      "2.csv\n",
      "3.csv\n",
      "4.csv\n",
      "5.csv\n",
      "6.csv\n"
     ]
    }
   ],
   "source": [
    "import os, sys\n",
    "\n",
    "# 打开文件\n",
    "path = \"datasets/\"  # 必须是本程序所在的位置下的 文件夹 名称，  '同等地位'\n",
    "dirs = os.listdir(path)\n",
    "print(dirs[0])\n",
    "# 输出所有文件和文件夹\n",
    "for file in dirs:\n",
    "   print (file)"
   ]
  },
  {
   "cell_type": "code",
   "execution_count": null,
   "metadata": {},
   "outputs": [],
   "source": []
  }
 ],
 "metadata": {
  "kernelspec": {
   "display_name": "Python 3",
   "language": "python",
   "name": "python3"
  },
  "language_info": {
   "codemirror_mode": {
    "name": "ipython",
    "version": 3
   },
   "file_extension": ".py",
   "mimetype": "text/x-python",
   "name": "python",
   "nbconvert_exporter": "python",
   "pygments_lexer": "ipython3",
   "version": "3.8.5"
  }
 },
 "nbformat": 4,
 "nbformat_minor": 4
}
