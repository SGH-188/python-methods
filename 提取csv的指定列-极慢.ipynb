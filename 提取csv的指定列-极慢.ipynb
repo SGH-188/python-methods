{
 "cells": [
  {
   "cell_type": "code",
   "execution_count": null,
   "metadata": {},
   "outputs": [
    {
     "name": "stdout",
     "output_type": "stream",
     "text": [
      "['1.csv', '10.csv', '11.csv', '2.csv', '3.csv', '4.csv', '5.csv', '6.csv', '7.csv', '8.csv', '9.csv']\n",
      "100002\n",
      "100002\n",
      "100001\n",
      "100002\n",
      "100002\n",
      "100001\n",
      "100002\n",
      "100001\n",
      "100001\n",
      "100002\n",
      "100001\n"
     ]
    }
   ],
   "source": [
    "import csv\n",
    "import pandas as pd\n",
    "import numpy as np\n",
    "import os,sys\n",
    "import re\n",
    "\n",
    "if __name__ == '__main__':\n",
    "    filenames_in = 'C:/Users/1/excerise/*training2/'\n",
    "    filenames_out = 'C:/Users/1/excerise/*test/'\n",
    "\n",
    "    pathDir = os.listdir(filenames_in)\n",
    "    print(pathDir)\n",
    "    for allDir in pathDir:\n",
    "        child = re.findall(r\"(.+?).csv\", allDir)\n",
    "        if len(child) > 0:\n",
    "            newfile = ''\n",
    "            needdate = child\n",
    "        domain1 = os.path.abspath(filenames_in)\n",
    "        info = os.path.join(domain1, allDir)\n",
    "        domain2 = os.path.abspath(filenames_out)\n",
    "        outfo = os.path.join(domain2, allDir)\n",
    "        \n",
    "        n = len(open(info,\"r\").readlines())\n",
    "        print(n)\n",
    "    \n",
    "    \n",
    "    with open(info, 'r') as f:\n",
    "            reader = csv.reader(f)\n",
    "            fileReader = list(reader)\n",
    "            for i in fileReader:\n",
    "                dataframe = pd.DataFrame(i[1:])\n",
    "                dataframe.T.to_csv(outfo,mode='a',header=0,index=0)\n",
    "            f.close()"
   ]
  },
  {
   "cell_type": "code",
   "execution_count": 3,
   "metadata": {},
   "outputs": [
    {
     "ename": "OSError",
     "evalue": "[WinError 123] 文件名、目录名或卷标语法不正确。: 'C:/Users/1/excerise/*training2/'",
     "output_type": "error",
     "traceback": [
      "\u001b[1;31m---------------------------------------------------------------------------\u001b[0m",
      "\u001b[1;31mOSError\u001b[0m                                   Traceback (most recent call last)",
      "\u001b[1;32m<ipython-input-3-c0c617e94d14>\u001b[0m in \u001b[0;36m<module>\u001b[1;34m\u001b[0m\n\u001b[0;32m      9\u001b[0m     \u001b[0mfilenames_out\u001b[0m \u001b[1;33m=\u001b[0m \u001b[1;34m'C:/Users/1/excerise/*test/'\u001b[0m\u001b[1;33m\u001b[0m\u001b[1;33m\u001b[0m\u001b[0m\n\u001b[0;32m     10\u001b[0m \u001b[1;33m\u001b[0m\u001b[0m\n\u001b[1;32m---> 11\u001b[1;33m     \u001b[0mpathDir\u001b[0m \u001b[1;33m=\u001b[0m \u001b[0mos\u001b[0m\u001b[1;33m.\u001b[0m\u001b[0mlistdir\u001b[0m\u001b[1;33m(\u001b[0m\u001b[0mfilenames_in\u001b[0m\u001b[1;33m)\u001b[0m\u001b[1;33m\u001b[0m\u001b[1;33m\u001b[0m\u001b[0m\n\u001b[0m\u001b[0;32m     12\u001b[0m     \u001b[0mprint\u001b[0m\u001b[1;33m(\u001b[0m\u001b[0mpathDir\u001b[0m\u001b[1;33m)\u001b[0m\u001b[1;33m\u001b[0m\u001b[1;33m\u001b[0m\u001b[0m\n\u001b[0;32m     13\u001b[0m     \u001b[1;32mfor\u001b[0m \u001b[0mallDir\u001b[0m \u001b[1;32min\u001b[0m \u001b[0mpathDir\u001b[0m\u001b[1;33m:\u001b[0m\u001b[1;33m\u001b[0m\u001b[1;33m\u001b[0m\u001b[0m\n",
      "\u001b[1;31mOSError\u001b[0m: [WinError 123] 文件名、目录名或卷标语法不正确。: 'C:/Users/1/excerise/*training2/'"
     ]
    }
   ],
   "source": [
    "import csv\n",
    "import pandas as pd\n",
    "import numpy as np\n",
    "import os,sys\n",
    "import re\n",
    "\n",
    "if __name__ == '__main__':\n",
    "    filenames_in = 'C:/Users/1/excerise/*training2/'\n",
    "    filenames_out = 'C:/Users/1/excerise/*test/'\n",
    "\n",
    "    pathDir = os.listdir(filenames_in)\n",
    "    print(pathDir)\n",
    "    for allDir in pathDir:\n",
    "        child = re.findall(r\"(.+?).csv\", allDir)\n",
    "        if len(child) > 0:\n",
    "            newfile = ''\n",
    "            needdate = child\n",
    "        domain1 = os.path.abspath(filenames_in)\n",
    "        info = os.path.join(domain1, allDir)\n",
    "        domain2 = os.path.abspath(filenames_out)\n",
    "        outfo = os.path.join(domain2, allDir)\n",
    "        \n",
    "        n = len(open(info,\"r\").readlines())\n",
    "        print(n)\n",
    "    \n",
    "    \n",
    "    with open(info, 'r') as f:\n",
    "            reader = csv.reader(f)\n",
    "            fileReader = list(reader)\n",
    "            for i in fileReader:\n",
    "                dataframe = pd.DataFrame(i[1:])\n",
    "                dataframe.T.to_csv(outfo,mode='a',header=0,index=0)\n",
    "            f.close()"
   ]
  },
  {
   "cell_type": "code",
   "execution_count": null,
   "metadata": {},
   "outputs": [],
   "source": []
  }
 ],
 "metadata": {
  "kernelspec": {
   "display_name": "Python 3",
   "language": "python",
   "name": "python3"
  },
  "language_info": {
   "codemirror_mode": {
    "name": "ipython",
    "version": 3
   },
   "file_extension": ".py",
   "mimetype": "text/x-python",
   "name": "python",
   "nbconvert_exporter": "python",
   "pygments_lexer": "ipython3",
   "version": "3.8.5"
  }
 },
 "nbformat": 4,
 "nbformat_minor": 4
}
