{
 "cells": [
  {
   "cell_type": "code",
   "execution_count": 1,
   "metadata": {},
   "outputs": [
    {
     "name": "stdout",
     "output_type": "stream",
     "text": [
      "['1.csv', '10.csv', '11.csv', '2.csv', '3.csv', '4.csv', '5.csv', '6.csv', '7.csv', '8.csv', '9.csv']\n",
      "100002\n",
      "100002\n",
      "100001\n",
      "100002\n",
      "100002\n",
      "100001\n",
      "100002\n",
      "100001\n",
      "100001\n",
      "100002\n",
      "100001\n"
     ]
    }
   ],
   "source": [
    "#清除固定行\n",
    "\n",
    "import csv\n",
    "import pandas as pd\n",
    "import numpy as np\n",
    "import os,sys\n",
    "import re\n",
    "\n",
    "if __name__ == '__main__':\n",
    "    filenames_in = 'C:/Users/1/excerise/training2/'\n",
    "    filenames_out = 'C:/Users/1/excerise/test/'\n",
    "\n",
    "    pathDir = os.listdir(filenames_in)\n",
    "    print(pathDir)\n",
    "    for allDir in pathDir:\n",
    "        child = re.findall(r\"(.+?).csv\", allDir)\n",
    "        if len(child) > 0:\n",
    "            newfile = ''\n",
    "            needdate = child\n",
    "        domain1 = os.path.abspath(filenames_in)\n",
    "        info = os.path.join(domain1, allDir)\n",
    "        domain2 = os.path.abspath(filenames_out)\n",
    "        outfo = os.path.join(domain2, allDir)\n",
    "        \n",
    "        n = len(open(info,\"r\").readlines())\n",
    "        print(n)\n",
    "        \n",
    "        with open(info, 'r') as f:\n",
    "            df = pd.read_csv(f)\n",
    "            df.drop(df.index[0:20],inplace=True)#第一行作为表头不计入行数中\n",
    "            df.to_csv(outfo,index=False)"
   ]
  },
  {
   "cell_type": "code",
   "execution_count": 3,
   "metadata": {},
   "outputs": [
    {
     "name": "stdout",
     "output_type": "stream",
     "text": [
      "['1.csv', '10.csv', '11.csv', '2.csv', '3.csv', '4.csv', '5.csv', '6.csv', '7.csv', '8.csv', '9.csv']\n",
      "100002\n",
      "100002\n",
      "100001\n",
      "100002\n",
      "100002\n",
      "100001\n",
      "100002\n",
      "100001\n",
      "100001\n",
      "100002\n",
      "100001\n"
     ]
    }
   ],
   "source": [
    "#清除固定列\n",
    "\n",
    "import csv\n",
    "import pandas as pd\n",
    "import numpy as np\n",
    "import os,sys\n",
    "import re\n",
    "\n",
    "if __name__ == '__main__':\n",
    "    filenames_in = 'C:/Users/1/excerise/training2/'\n",
    "    filenames_out = 'C:/Users/1/excerise/test/'\n",
    "\n",
    "    pathDir = os.listdir(filenames_in)\n",
    "    print(pathDir)\n",
    "    for allDir in pathDir:\n",
    "        child = re.findall(r\"(.+?).csv\", allDir)\n",
    "        if len(child) > 0:\n",
    "            newfile = ''\n",
    "            needdate = child\n",
    "        domain1 = os.path.abspath(filenames_in)\n",
    "        info = os.path.join(domain1, allDir)\n",
    "        domain2 = os.path.abspath(filenames_out)\n",
    "        outfo = os.path.join(domain2, allDir)\n",
    "        \n",
    "        n = len(open(info,\"r\").readlines())\n",
    "        print(n)\n",
    "        \n",
    "        with open(info, 'r') as f:\n",
    "            df = pd.read_csv(f)\n",
    "            df=df.drop(['t'],axis=1)#清除固定列\n",
    "            df.to_csv(outfo,index=False)"
   ]
  },
  {
   "cell_type": "code",
   "execution_count": null,
   "metadata": {},
   "outputs": [],
   "source": [
    "#清除第一行\n",
    "\n",
    "import csv\n",
    "import pandas as pd\n",
    "import numpy as np\n",
    "import os,sys\n",
    "import re\n",
    "\n",
    "if __name__ == '__main__':\n",
    "    filenames_in = 'C:/Users/1/excerise/training2/'\n",
    "    filenames_out = 'C:/Users/1/excerise/test/'\n",
    "\n",
    "    pathDir = os.listdir(filenames_in)\n",
    "    print(pathDir)\n",
    "    for allDir in pathDir:\n",
    "        child = re.findall(r\"(.+?).csv\", allDir)\n",
    "        if len(child) > 0:\n",
    "            newfile = ''\n",
    "            needdate = child\n",
    "        domain1 = os.path.abspath(filenames_in)\n",
    "        info = os.path.join(domain1, allDir)\n",
    "        domain2 = os.path.abspath(filenames_out)\n",
    "        outfo = os.path.join(domain2, allDir)\n",
    "        \n",
    "        n = len(open(info,\"r\").readlines())\n",
    "        print(n)\n",
    "        \n",
    "        with open(info, 'r') as f:\n",
    "            with open(outfo,'w') as f1:\n",
    "                next(f)\n",
    "                for line in f:\n",
    "                    f1.write(line)"
   ]
  }
 ],
 "metadata": {
  "kernelspec": {
   "display_name": "Python 3",
   "language": "python",
   "name": "python3"
  },
  "language_info": {
   "codemirror_mode": {
    "name": "ipython",
    "version": 3
   },
   "file_extension": ".py",
   "mimetype": "text/x-python",
   "name": "python",
   "nbconvert_exporter": "python",
   "pygments_lexer": "ipython3",
   "version": "3.8.5"
  }
 },
 "nbformat": 4,
 "nbformat_minor": 4
}
