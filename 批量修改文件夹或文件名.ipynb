{
 "cells": [
  {
   "cell_type": "code",
   "execution_count": 10,
   "metadata": {},
   "outputs": [
    {
     "name": "stdout",
     "output_type": "stream",
     "text": [
      "C:/Users/1/excerise/c_1/c1\\.ipynb_checkpoints ======> C:/Users/1/excerise/c_1/c1\\04_00-5s-O.csv\n",
      "C:/Users/1/excerise/c_1/c1\\04_01-5s-O-Copy1.csv ======> C:/Users/1/excerise/c_1/c1\\04_01-5s-O.csv\n",
      "C:/Users/1/excerise/c_1/c1\\04_02-5s-O-Copy1.csv ======> C:/Users/1/excerise/c_1/c1\\04_02-5s-O.csv\n",
      "C:/Users/1/excerise/c_1/c1\\04_03-5s-O-Copy1.csv ======> C:/Users/1/excerise/c_1/c1\\04_03-5s-O.csv\n",
      "C:/Users/1/excerise/c_1/c1\\04_04-5s-O-Copy1.csv ======> C:/Users/1/excerise/c_1/c1\\04_04-5s-O.csv\n",
      "C:/Users/1/excerise/c_1/c1\\04_05-5s-O-Copy1.csv ======> C:/Users/1/excerise/c_1/c1\\04_05-5s-O.csv\n"
     ]
    }
   ],
   "source": [
    "# 批量修改文件名/文件夹名 按文件排序更改 不是文件名\n",
    "#*********          切记           **********\n",
    "#*********按文件排序更改 不是文件名**********\n",
    "import os\n",
    "path='C:/Users/1/excerise'        \n",
    "\n",
    "#获取该目录下所有文件，存入列表中\n",
    "fileList=os.listdir(path)\n",
    "\n",
    "n=0\n",
    "for i in fileList:\n",
    "    \n",
    "    str1 = \"%02d\" % (n + 4)\n",
    "    str2 = \"%02d\" % (n)\n",
    "    #设置旧文件名（就是路径+文件名）\n",
    "    oldname=path+ os.sep + fileList[n]   # os.sep添加系统分隔符\n",
    "    \n",
    "    #设置新文件名\n",
    "    newname=path + os.sep +'04_' +str2 +'-5s-O'+'.csv'\n",
    "    \n",
    "    os.rename(oldname,newname)   #用os模块中的rename方法对文件改名\n",
    "    print(oldname,'======>',newname)\n",
    "    \n",
    "    n+=1"
   ]
  },
  {
   "cell_type": "code",
   "execution_count": 8,
   "metadata": {},
   "outputs": [
    {
     "name": "stdout",
     "output_type": "stream",
     "text": [
      "['17_01-5s-T .csv', '17_02-5s-T .csv', '17_03-5s-T .csv', '17_04-5s-T .csv', '17_05-5s-T .csv', '17_06-5s-T .csv', '17_07-5s-T .csv', '17_08-5s-T .csv', '17_09-5s-T .csv', '17_10-5s-T .csv', '17_11-5s-T .csv', '17_12-5s-T .csv', '17_13-5s-T .csv', '17_14-5s-T .csv', '17_15-5s-T .csv', '17_16-5s-T .csv', '17_17-5s-T .csv', '17_18-5s-T .csv', '17_19-5s-T .csv', '17_20-5s-T .csv', '17_21-5s-T .csv', '17_22-5s-T .csv', '17_23-5s-T .csv']\n"
     ]
    },
    {
     "ename": "FileExistsError",
     "evalue": "[WinError 183] 当文件已存在时，无法创建该文件。: 'C:/Users/1/excerise/1/1/17-5s\\\\17_01-5s-T .csv' -> 'C:/Users/1/excerise/1/1/17-5s\\\\17_17-5s-T .csv'",
     "output_type": "error",
     "traceback": [
      "\u001b[1;31m---------------------------------------------------------------------------\u001b[0m",
      "\u001b[1;31mFileExistsError\u001b[0m                           Traceback (most recent call last)",
      "\u001b[1;32m<ipython-input-8-36e96c982508>\u001b[0m in \u001b[0;36m<module>\u001b[1;34m\u001b[0m\n\u001b[0;32m     16\u001b[0m     \u001b[0moldname\u001b[0m\u001b[1;33m=\u001b[0m\u001b[0mpath\u001b[0m\u001b[1;33m+\u001b[0m \u001b[0mos\u001b[0m\u001b[1;33m.\u001b[0m\u001b[0msep\u001b[0m \u001b[1;33m+\u001b[0m \u001b[0mfileList\u001b[0m\u001b[1;33m[\u001b[0m\u001b[0mn\u001b[0m\u001b[1;33m]\u001b[0m   \u001b[1;31m# os.sep添加系统分隔符\u001b[0m\u001b[1;33m\u001b[0m\u001b[1;33m\u001b[0m\u001b[0m\n\u001b[0;32m     17\u001b[0m     \u001b[0mnewname\u001b[0m\u001b[1;33m=\u001b[0m\u001b[0mpath\u001b[0m \u001b[1;33m+\u001b[0m \u001b[0mos\u001b[0m\u001b[1;33m.\u001b[0m\u001b[0msep\u001b[0m \u001b[1;33m+\u001b[0m\u001b[1;34m'17_'\u001b[0m\u001b[1;33m+\u001b[0m \u001b[0mstr2\u001b[0m \u001b[1;33m+\u001b[0m\u001b[1;34m'-5s-T '\u001b[0m\u001b[1;33m+\u001b[0m\u001b[1;34m'.csv'\u001b[0m\u001b[1;33m\u001b[0m\u001b[1;33m\u001b[0m\u001b[0m\n\u001b[1;32m---> 18\u001b[1;33m     \u001b[0mos\u001b[0m\u001b[1;33m.\u001b[0m\u001b[0mrename\u001b[0m\u001b[1;33m(\u001b[0m\u001b[0moldname\u001b[0m\u001b[1;33m,\u001b[0m\u001b[0mnewname\u001b[0m\u001b[1;33m)\u001b[0m   \u001b[1;31m#用os模块中的rename方法对文件改名\u001b[0m\u001b[1;33m\u001b[0m\u001b[1;33m\u001b[0m\u001b[0m\n\u001b[0m\u001b[0;32m     19\u001b[0m     \u001b[0mprint\u001b[0m\u001b[1;33m(\u001b[0m\u001b[0moldname\u001b[0m\u001b[1;33m,\u001b[0m\u001b[1;34m'======>'\u001b[0m\u001b[1;33m,\u001b[0m\u001b[0mnewname\u001b[0m\u001b[1;33m)\u001b[0m\u001b[1;33m\u001b[0m\u001b[1;33m\u001b[0m\u001b[0m\n\u001b[0;32m     20\u001b[0m \u001b[1;33m\u001b[0m\u001b[0m\n",
      "\u001b[1;31mFileExistsError\u001b[0m: [WinError 183] 当文件已存在时，无法创建该文件。: 'C:/Users/1/excerise/1/1/17-5s\\\\17_01-5s-T .csv' -> 'C:/Users/1/excerise/1/1/17-5s\\\\17_17-5s-T .csv'"
     ]
    }
   ],
   "source": [
    "# 批量修改文件名  正则化 加数字等等\n",
    "import re\n",
    "\n",
    "import os\n",
    "path='C:/Users/1/excerise/1/1/17-5s'        \n",
    "\n",
    "#获取该目录下所有文件，存入列表中\n",
    "fileList=os.listdir(path)\n",
    "print(fileList)\n",
    "n=0\n",
    "for filename in fileList:\n",
    "    regex = re.compile(r'\\d+')\n",
    "    \n",
    "    regex.findall(filename)\n",
    "    str2 = \"%02d\" % ([int(x) for x in regex.findall(filename)][0])\n",
    "    oldname=path+ os.sep + fileList[n]   # os.sep添加系统分隔符\n",
    "    newname=path + os.sep +'17_'+ str2 +'-5s-T '+'.csv'\n",
    "    os.rename(oldname,newname)   #用os模块中的rename方法对文件改名\n",
    "    print(oldname,'======>',newname)\n",
    "    \n",
    "    n+=1"
   ]
  },
  {
   "cell_type": "code",
   "execution_count": null,
   "metadata": {},
   "outputs": [],
   "source": [
    "#获取文件名中数字\n",
    "\n",
    "import re\n",
    "\n",
    "import os\n",
    "path='C:/Users/1/excerise/1/1/17-5s'        \n",
    "\n",
    "#获取该目录下所有文件，存入列表中\n",
    "fileList=os.listdir(path)\n",
    "print(fileList)\n",
    "\n",
    "regex = re.compile(r'\\d+')\n",
    "for filename in fileList:\n",
    "    regex.findall(filename)\n",
    "    print([int(x) for x in regex.findall(filename)])\n"
   ]
  }
 ],
 "metadata": {
  "kernelspec": {
   "display_name": "Python 3",
   "language": "python",
   "name": "python3"
  },
  "language_info": {
   "codemirror_mode": {
    "name": "ipython",
    "version": 3
   },
   "file_extension": ".py",
   "mimetype": "text/x-python",
   "name": "python",
   "nbconvert_exporter": "python",
   "pygments_lexer": "ipython3",
   "version": "3.8.5"
  }
 },
 "nbformat": 4,
 "nbformat_minor": 4
}
